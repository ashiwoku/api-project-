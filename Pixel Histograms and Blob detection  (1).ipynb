{
 "cells": [
  {
   "cell_type": "code",
   "execution_count": 1,
   "metadata": {},
   "outputs": [],
   "source": [
    "import numpy as np\n",
    "import os\n",
    "import cv2\n",
    "import matplotlib.pyplot as plt\n",
    "import random\n",
    "import math \n",
    "import pandas as pd"
   ]
  },
  {
   "cell_type": "code",
   "execution_count": 2,
   "metadata": {},
   "outputs": [],
   "source": [
    "## Load in image folder.\n",
    "data_directory = 'C:\\\\Users\\\\User\\\\Desktop\\\\leukemia capstone'\n",
    "categories = ['BAS','EBO','EOS','KSC','LYA','LYT','MMZ','MOB','MON',\n",
    "              'MYB','NGS','MYO','NGB','PMB','PMO']"
   ]
  },
  {
   "cell_type": "code",
   "execution_count": 3,
   "metadata": {},
   "outputs": [],
   "source": [
    "img_folder = []\n",
    "class_folder = [] \n",
    "def create_dataset(dataset):\n",
    "     for label in dataset:\n",
    "        path = os.path.join(data_directory,label)\n",
    "        ##classification = categories.index(label)\n",
    "        for image in random.sample(os.listdir(path),4):\n",
    "            try:\n",
    "                image_array = cv2.imread(os.path.join(path,image),0)\n",
    "                img_folder.append(image_array)\n",
    "                class_folder.append(label)\n",
    "            except Exception as e:\n",
    "                print(\"Image was a problem {}\".format(image))"
   ]
  },
  {
   "cell_type": "code",
   "execution_count": 4,
   "metadata": {},
   "outputs": [],
   "source": [
    "create_dataset(categories)"
   ]
  },
  {
   "cell_type": "code",
   "execution_count": 5,
   "metadata": {},
   "outputs": [],
   "source": [
    "BAS = img_folder[0:4] \n",
    "EBO = img_folder[4:8]\n",
    "EOS = img_folder[8:12]\n",
    "KSC = img_folder[12:16]\n",
    "LYA = img_folder[16:20]\n",
    "LYT = img_folder[20:24]\n",
    "MMZ = img_folder[24:28]\n",
    "MOB = img_folder[28:32]\n",
    "MON = img_folder[32:36]\n",
    "MYB = img_folder[36:40]\n",
    "NGS = img_folder[40:44]\n",
    "MYO = img_folder[44:48]\n",
    "NGB = img_folder[48:52]\n",
    "PMB = img_folder[52:56]\n",
    "PMO = img_folder[56:60]"
   ]
  },
  {
   "cell_type": "code",
   "execution_count": 14,
   "metadata": {},
   "outputs": [],
   "source": [
    "centers = [35, 85, 125, 165, 205, 245]\n",
    "std = 25 # All bins cover the same amount of distance. \n",
    "data = pd.DataFrame(columns=centers)"
   ]
  },
  {
   "cell_type": "code",
   "execution_count": 48,
   "metadata": {},
   "outputs": [],
   "source": [
    "# Each image will contain 11 bins: each bin will be given a gaussian distribution with an implicit mean and std. \n",
    "# The pixel will given a weight and assigned to thier bins. \n",
    "def make_bins(image_folder):\n",
    "    #for each image, unravel it into a 1D array and initilaize a dictionary of bins with the keys = means. \n",
    "    for x in range(len(image_folder)):\n",
    "        storage = []\n",
    "        image = image_folder[x].ravel()\n",
    "        # for each pixel in the image, calculate the probability for each guassian distribution. Store the  \n",
    "        for pixel in image:\n",
    "            bins = [(1 / std* math.sqrt(2 * math.pi)) * math.exp(-0.5 * ((pixel - mean)/std)**2) for mean in centers]\n",
    "            bins = [x/sum(bins) for x in bins]\n",
    "            storage.append(bins)\n",
    "        insert = pd.DataFrame(storage,columns=centers)\n",
    "        insert = [insert[x].sum() for x in centers]\n",
    "        insert = pd.Series(insert,index=centers)\n",
    "        data.append(insert, ignore_index=True)\n",
    "        return data"
   ]
  },
  {
   "cell_type": "code",
   "execution_count": 49,
   "metadata": {},
   "outputs": [
    {
     "data": {
      "text/html": [
       "<div>\n",
       "<style scoped>\n",
       "    .dataframe tbody tr th:only-of-type {\n",
       "        vertical-align: middle;\n",
       "    }\n",
       "\n",
       "    .dataframe tbody tr th {\n",
       "        vertical-align: top;\n",
       "    }\n",
       "\n",
       "    .dataframe thead th {\n",
       "        text-align: right;\n",
       "    }\n",
       "</style>\n",
       "<table border=\"1\" class=\"dataframe\">\n",
       "  <thead>\n",
       "    <tr style=\"text-align: right;\">\n",
       "      <th></th>\n",
       "      <th>35</th>\n",
       "      <th>85</th>\n",
       "      <th>125</th>\n",
       "      <th>165</th>\n",
       "      <th>205</th>\n",
       "      <th>245</th>\n",
       "    </tr>\n",
       "  </thead>\n",
       "  <tbody>\n",
       "  </tbody>\n",
       "</table>\n",
       "</div>"
      ],
      "text/plain": [
       "Empty DataFrame\n",
       "Columns: [35, 85, 125, 165, 205, 245]\n",
       "Index: []"
      ]
     },
     "execution_count": 49,
     "metadata": {},
     "output_type": "execute_result"
    }
   ],
   "source": [
    "make_bins(PMO)"
   ]
  },
  {
   "cell_type": "code",
   "execution_count": null,
   "metadata": {},
   "outputs": [],
   "source": [
    "## Pixel Intensity histograms\n",
    "def plot_histograms(dataset):\n",
    "    for i in range(len(dataset)):\n",
    "        plt.hist(dataset[i].ravel(), bins=256)\n",
    "        plt.xlabel('Pixel Data')\n",
    "        break\n",
    "    plt.tight_layout()\n",
    "    plt.show()"
   ]
  },
  {
   "cell_type": "code",
   "execution_count": null,
   "metadata": {},
   "outputs": [],
   "source": [
    "plot_histograms(BAS)"
   ]
  },
  {
   "cell_type": "code",
   "execution_count": null,
   "metadata": {},
   "outputs": [],
   "source": [
    "plot_histograms(EBO)"
   ]
  },
  {
   "cell_type": "code",
   "execution_count": null,
   "metadata": {},
   "outputs": [],
   "source": [
    "plot_histograms(EOS)"
   ]
  },
  {
   "cell_type": "code",
   "execution_count": null,
   "metadata": {},
   "outputs": [],
   "source": [
    "plot_histograms(KSC)"
   ]
  },
  {
   "cell_type": "code",
   "execution_count": null,
   "metadata": {},
   "outputs": [],
   "source": [
    "plot_histograms(LYA)"
   ]
  },
  {
   "cell_type": "code",
   "execution_count": null,
   "metadata": {},
   "outputs": [],
   "source": [
    "plot_histograms(LYT)"
   ]
  },
  {
   "cell_type": "code",
   "execution_count": null,
   "metadata": {},
   "outputs": [],
   "source": [
    "plot_histograms(MMZ)"
   ]
  },
  {
   "cell_type": "code",
   "execution_count": null,
   "metadata": {},
   "outputs": [],
   "source": [
    "# set parameters for blob detection \n",
    "params = cv2.SimpleBlobDetector_Params()\n",
    "\n",
    "# set area parameters for detcting blob size\n",
    "params.filterByArea = True\n",
    "params.minArea = 100\n",
    "\n",
    "# set circularity paramaters for detecting circular blobs  \n",
    "params.filterByCircularity = True\n",
    "params.minCircularity = 0.8\n",
    "\n",
    "# set convexity parameter\n",
    "params.filterByConvexity = True\n",
    "params.minConvexity = 0.3\n",
    "\n",
    "# set inertia paramaeter \n",
    "params.filterByInertia = True \n",
    "params.minInertiaRatio = 0.02"
   ]
  },
  {
   "cell_type": "code",
   "execution_count": null,
   "metadata": {},
   "outputs": [],
   "source": [
    "## set directory path for images. \n",
    "path = os.path.join(data_directory,'BAS')\n",
    "folder = os.listdir(path)\n",
    "example = random.choice(folder)\n",
    "\n",
    "example"
   ]
  },
  {
   "cell_type": "code",
   "execution_count": null,
   "metadata": {},
   "outputs": [],
   "source": []
  },
  {
   "cell_type": "code",
   "execution_count": null,
   "metadata": {},
   "outputs": [],
   "source": []
  }
 ],
 "metadata": {
  "kernelspec": {
   "display_name": "Python 3",
   "language": "python",
   "name": "python3"
  },
  "language_info": {
   "codemirror_mode": {
    "name": "ipython",
    "version": 3
   },
   "file_extension": ".py",
   "mimetype": "text/x-python",
   "name": "python",
   "nbconvert_exporter": "python",
   "pygments_lexer": "ipython3",
   "version": "3.8.5"
  }
 },
 "nbformat": 4,
 "nbformat_minor": 4
}
