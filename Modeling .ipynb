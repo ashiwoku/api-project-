{
 "cells": [
  {
   "cell_type": "code",
   "execution_count": 1,
   "metadata": {},
   "outputs": [],
   "source": [
    "import pandas as pd\n",
    "data = pd.read_csv('image_bins.csv')"
   ]
  },
  {
   "cell_type": "code",
   "execution_count": 2,
   "metadata": {},
   "outputs": [
    {
     "data": {
      "text/html": [
       "<div>\n",
       "<style scoped>\n",
       "    .dataframe tbody tr th:only-of-type {\n",
       "        vertical-align: middle;\n",
       "    }\n",
       "\n",
       "    .dataframe tbody tr th {\n",
       "        vertical-align: top;\n",
       "    }\n",
       "\n",
       "    .dataframe thead th {\n",
       "        text-align: right;\n",
       "    }\n",
       "</style>\n",
       "<table border=\"1\" class=\"dataframe\">\n",
       "  <thead>\n",
       "    <tr style=\"text-align: right;\">\n",
       "      <th></th>\n",
       "      <th>Unnamed: 0</th>\n",
       "      <th>35</th>\n",
       "      <th>85</th>\n",
       "      <th>125</th>\n",
       "      <th>165</th>\n",
       "      <th>205</th>\n",
       "      <th>245</th>\n",
       "      <th>class</th>\n",
       "    </tr>\n",
       "  </thead>\n",
       "  <tbody>\n",
       "    <tr>\n",
       "      <th>0</th>\n",
       "      <td>0</td>\n",
       "      <td>8712.721443</td>\n",
       "      <td>3279.095153</td>\n",
       "      <td>16609.232351</td>\n",
       "      <td>71357.832693</td>\n",
       "      <td>56542.240014</td>\n",
       "      <td>3498.878345</td>\n",
       "      <td>BAS</td>\n",
       "    </tr>\n",
       "    <tr>\n",
       "      <th>1</th>\n",
       "      <td>1</td>\n",
       "      <td>10747.458681</td>\n",
       "      <td>4015.895393</td>\n",
       "      <td>11889.039690</td>\n",
       "      <td>45974.309823</td>\n",
       "      <td>63587.564327</td>\n",
       "      <td>23785.732086</td>\n",
       "      <td>BAS</td>\n",
       "    </tr>\n",
       "    <tr>\n",
       "      <th>2</th>\n",
       "      <td>2</td>\n",
       "      <td>2777.049171</td>\n",
       "      <td>8282.663493</td>\n",
       "      <td>12155.791222</td>\n",
       "      <td>35649.788854</td>\n",
       "      <td>95532.832343</td>\n",
       "      <td>5601.874917</td>\n",
       "      <td>BAS</td>\n",
       "    </tr>\n",
       "    <tr>\n",
       "      <th>3</th>\n",
       "      <td>3</td>\n",
       "      <td>12192.918311</td>\n",
       "      <td>4948.432880</td>\n",
       "      <td>28852.074195</td>\n",
       "      <td>35786.930334</td>\n",
       "      <td>74423.850548</td>\n",
       "      <td>3795.793732</td>\n",
       "      <td>BAS</td>\n",
       "    </tr>\n",
       "    <tr>\n",
       "      <th>4</th>\n",
       "      <td>4</td>\n",
       "      <td>7643.250093</td>\n",
       "      <td>7024.395848</td>\n",
       "      <td>33038.923821</td>\n",
       "      <td>36694.977726</td>\n",
       "      <td>68038.729434</td>\n",
       "      <td>7559.723079</td>\n",
       "      <td>BAS</td>\n",
       "    </tr>\n",
       "  </tbody>\n",
       "</table>\n",
       "</div>"
      ],
      "text/plain": [
       "   Unnamed: 0            35           85           125           165  \\\n",
       "0           0   8712.721443  3279.095153  16609.232351  71357.832693   \n",
       "1           1  10747.458681  4015.895393  11889.039690  45974.309823   \n",
       "2           2   2777.049171  8282.663493  12155.791222  35649.788854   \n",
       "3           3  12192.918311  4948.432880  28852.074195  35786.930334   \n",
       "4           4   7643.250093  7024.395848  33038.923821  36694.977726   \n",
       "\n",
       "            205           245 class  \n",
       "0  56542.240014   3498.878345   BAS  \n",
       "1  63587.564327  23785.732086   BAS  \n",
       "2  95532.832343   5601.874917   BAS  \n",
       "3  74423.850548   3795.793732   BAS  \n",
       "4  68038.729434   7559.723079   BAS  "
      ]
     },
     "execution_count": 2,
     "metadata": {},
     "output_type": "execute_result"
    }
   ],
   "source": [
    "data.head()"
   ]
  },
  {
   "cell_type": "code",
   "execution_count": 3,
   "metadata": {},
   "outputs": [
    {
     "data": {
      "text/plain": [
       "Index(['Unnamed: 0', '35', '85', '125', '165', '205', '245', 'class'], dtype='object')"
      ]
     },
     "execution_count": 3,
     "metadata": {},
     "output_type": "execute_result"
    }
   ],
   "source": [
    "data.keys()"
   ]
  },
  {
   "cell_type": "code",
   "execution_count": 4,
   "metadata": {},
   "outputs": [
    {
     "data": {
      "text/plain": [
       "{0: 'BAS',\n",
       " 1: 'EBO',\n",
       " 2: 'EOS',\n",
       " 3: 'KSC',\n",
       " 4: 'LYA',\n",
       " 5: 'LYT',\n",
       " 6: 'MMZ',\n",
       " 7: 'MOB',\n",
       " 8: 'MON',\n",
       " 9: 'MYB',\n",
       " 10: 'MYO',\n",
       " 11: 'NGB',\n",
       " 12: 'NGS',\n",
       " 13: 'PMB',\n",
       " 14: 'PMO'}"
      ]
     },
     "execution_count": 4,
     "metadata": {},
     "output_type": "execute_result"
    }
   ],
   "source": [
    "from sklearn.preprocessing import LabelEncoder\n",
    "gle = LabelEncoder()\n",
    "image_labels = gle.fit_transform(data['class'])\n",
    "label_mappings = { index:label for index, label in enumerate(gle.classes_) }\n",
    "label_mappings"
   ]
  },
  {
   "cell_type": "code",
   "execution_count": 5,
   "metadata": {},
   "outputs": [
    {
     "data": {
      "text/html": [
       "<div>\n",
       "<style scoped>\n",
       "    .dataframe tbody tr th:only-of-type {\n",
       "        vertical-align: middle;\n",
       "    }\n",
       "\n",
       "    .dataframe tbody tr th {\n",
       "        vertical-align: top;\n",
       "    }\n",
       "\n",
       "    .dataframe thead th {\n",
       "        text-align: right;\n",
       "    }\n",
       "</style>\n",
       "<table border=\"1\" class=\"dataframe\">\n",
       "  <thead>\n",
       "    <tr style=\"text-align: right;\">\n",
       "      <th></th>\n",
       "      <th>Unnamed: 0</th>\n",
       "      <th>35</th>\n",
       "      <th>85</th>\n",
       "      <th>125</th>\n",
       "      <th>165</th>\n",
       "      <th>205</th>\n",
       "      <th>245</th>\n",
       "      <th>class</th>\n",
       "    </tr>\n",
       "  </thead>\n",
       "  <tbody>\n",
       "    <tr>\n",
       "      <th>0</th>\n",
       "      <td>0</td>\n",
       "      <td>8712.721443</td>\n",
       "      <td>3279.095153</td>\n",
       "      <td>16609.232351</td>\n",
       "      <td>71357.832693</td>\n",
       "      <td>56542.240014</td>\n",
       "      <td>3498.878345</td>\n",
       "      <td>0</td>\n",
       "    </tr>\n",
       "    <tr>\n",
       "      <th>1</th>\n",
       "      <td>1</td>\n",
       "      <td>10747.458681</td>\n",
       "      <td>4015.895393</td>\n",
       "      <td>11889.039690</td>\n",
       "      <td>45974.309823</td>\n",
       "      <td>63587.564327</td>\n",
       "      <td>23785.732086</td>\n",
       "      <td>0</td>\n",
       "    </tr>\n",
       "    <tr>\n",
       "      <th>2</th>\n",
       "      <td>2</td>\n",
       "      <td>2777.049171</td>\n",
       "      <td>8282.663493</td>\n",
       "      <td>12155.791222</td>\n",
       "      <td>35649.788854</td>\n",
       "      <td>95532.832343</td>\n",
       "      <td>5601.874917</td>\n",
       "      <td>0</td>\n",
       "    </tr>\n",
       "    <tr>\n",
       "      <th>3</th>\n",
       "      <td>3</td>\n",
       "      <td>12192.918311</td>\n",
       "      <td>4948.432880</td>\n",
       "      <td>28852.074195</td>\n",
       "      <td>35786.930334</td>\n",
       "      <td>74423.850548</td>\n",
       "      <td>3795.793732</td>\n",
       "      <td>0</td>\n",
       "    </tr>\n",
       "    <tr>\n",
       "      <th>4</th>\n",
       "      <td>4</td>\n",
       "      <td>7643.250093</td>\n",
       "      <td>7024.395848</td>\n",
       "      <td>33038.923821</td>\n",
       "      <td>36694.977726</td>\n",
       "      <td>68038.729434</td>\n",
       "      <td>7559.723079</td>\n",
       "      <td>0</td>\n",
       "    </tr>\n",
       "  </tbody>\n",
       "</table>\n",
       "</div>"
      ],
      "text/plain": [
       "   Unnamed: 0            35           85           125           165  \\\n",
       "0           0   8712.721443  3279.095153  16609.232351  71357.832693   \n",
       "1           1  10747.458681  4015.895393  11889.039690  45974.309823   \n",
       "2           2   2777.049171  8282.663493  12155.791222  35649.788854   \n",
       "3           3  12192.918311  4948.432880  28852.074195  35786.930334   \n",
       "4           4   7643.250093  7024.395848  33038.923821  36694.977726   \n",
       "\n",
       "            205           245  class  \n",
       "0  56542.240014   3498.878345      0  \n",
       "1  63587.564327  23785.732086      0  \n",
       "2  95532.832343   5601.874917      0  \n",
       "3  74423.850548   3795.793732      0  \n",
       "4  68038.729434   7559.723079      0  "
      ]
     },
     "execution_count": 5,
     "metadata": {},
     "output_type": "execute_result"
    }
   ],
   "source": [
    "data['class'] = image_labels\n",
    "data.head()"
   ]
  },
  {
   "cell_type": "code",
   "execution_count": 6,
   "metadata": {},
   "outputs": [],
   "source": [
    "data.drop(columns =['Unnamed: 0'], inplace=True)"
   ]
  },
  {
   "cell_type": "code",
   "execution_count": 7,
   "metadata": {},
   "outputs": [
    {
     "data": {
      "text/plain": [
       "12    8484\n",
       "5     3937\n",
       "10    3268\n",
       "8     1789\n",
       "2      424\n",
       "11     109\n",
       "0       79\n",
       "1       78\n",
       "14      70\n",
       "9       42\n",
       "7       26\n",
       "13      18\n",
       "6       15\n",
       "3       15\n",
       "4       11\n",
       "Name: class, dtype: int64"
      ]
     },
     "execution_count": 7,
     "metadata": {},
     "output_type": "execute_result"
    }
   ],
   "source": [
    "data['class'].value_counts()"
   ]
  },
  {
   "cell_type": "code",
   "execution_count": 28,
   "metadata": {},
   "outputs": [
    {
     "data": {
      "text/plain": [
       "LogisticRegression(class_weight={0: 4.8, 1: 4.8, 2: 4.0, 3: 8.5, 4: 10, 6: 8.5,\n",
       "                                 7: 6.0, 9: 5.5, 11: 4.0, 13: 7.1, 14: 4.8},\n",
       "                   max_iter=1500, multi_class='multinomial', random_state=50)"
      ]
     },
     "execution_count": 28,
     "metadata": {},
     "output_type": "execute_result"
    }
   ],
   "source": [
    "from sklearn.linear_model import LogisticRegression\n",
    "from sklearn.metrics import classification_report, confusion_matrix \n",
    "from sklearn.model_selection import train_test_split\n",
    "X = data.drop(columns=['class'])\n",
    "y = data['class']\n",
    "weights = {2:4.0, 11:4.0, 0:4.8, 1:4.8, 14:4.8, 9:5.5, 7:6.0, 13:7.1, 6:8.5, 3:8.5, 4:10 }\n",
    "X_train, X_test, y_train, y_test = train_test_split(X,y,test_size=0.25, random_state=50)\n",
    "logistic_model = LogisticRegression(random_state=50, class_weight=weights, solver='lbfgs', multi_class='multinomial', max_iter = 1500)\n",
    "logistic_model.fit(X_train, y_train)"
   ]
  },
  {
   "cell_type": "code",
   "execution_count": 30,
   "metadata": {},
   "outputs": [
    {
     "name": "stdout",
     "output_type": "stream",
     "text": [
      "The logistic model predicts a class with greater than 50% certainty for 8963, or 65.077% of the training set\n"
     ]
    }
   ],
   "source": [
    "import numpy as np\n",
    "prediction_length = len(logistic_model.predict_proba(X_train))\n",
    "prediction_certainty = np.array([ logistic_model.predict_proba(X_train)[x].max() for x in range(prediction_length)])\n",
    "pred_bool = prediction_certainty > 0.5 \n",
    "output = np.where(pred_bool)[0]\n",
    "print('The logistic model predicts a class with greater than 50% certainty for {}, or {}% of the training set' \n",
    "      .format(len(output), round(100*(len(output)/prediction_length), 3)))"
   ]
  },
  {
   "cell_type": "code",
   "execution_count": 31,
   "metadata": {},
   "outputs": [
    {
     "name": "stdout",
     "output_type": "stream",
     "text": [
      "The training set got a score of 68.475 %\n"
     ]
    }
   ],
   "source": [
    "training_score = logistic_model.score(X_train, y_train)*100\n",
    "print('The training set got a score of {} %'.format(round(training_score,3)))"
   ]
  },
  {
   "cell_type": "code",
   "execution_count": 32,
   "metadata": {},
   "outputs": [],
   "source": [
    "predictions = logistic_model.predict(X_test)"
   ]
  },
  {
   "cell_type": "code",
   "execution_count": 33,
   "metadata": {},
   "outputs": [
    {
     "name": "stdout",
     "output_type": "stream",
     "text": [
      "The model achieved an accuracy score of 68.57600000000001 %\n"
     ]
    }
   ],
   "source": [
    "print(\"The model achieved an accuracy score of {} %\" .format(100*round(logistic_model.score(X_test, y_test), 5)))"
   ]
  },
  {
   "cell_type": "code",
   "execution_count": 34,
   "metadata": {},
   "outputs": [
    {
     "name": "stdout",
     "output_type": "stream",
     "text": [
      "              precision    recall  f1-score   support\n",
      "\n",
      "           0       0.00      0.00      0.00        13\n",
      "           1       0.50      0.13      0.21        15\n",
      "           2       0.18      0.36      0.24        96\n",
      "           3       0.00      0.00      0.00         7\n",
      "           4       0.00      0.00      0.00         5\n",
      "           5       0.62      0.48      0.54       978\n",
      "           6       0.00      0.00      0.00         4\n",
      "           7       0.00      0.00      0.00         6\n",
      "           8       0.54      0.18      0.27       486\n",
      "           9       0.00      0.00      0.00         7\n",
      "          10       0.64      0.78      0.70       815\n",
      "          11       0.00      0.00      0.00        22\n",
      "          12       0.78      0.91      0.84      2113\n",
      "          13       0.00      0.00      0.00         7\n",
      "          14       0.33      0.33      0.33        18\n",
      "\n",
      "    accuracy                           0.69      4592\n",
      "   macro avg       0.24      0.21      0.21      4592\n",
      "weighted avg       0.67      0.69      0.66      4592\n",
      "\n"
     ]
    },
    {
     "name": "stderr",
     "output_type": "stream",
     "text": [
      "C:\\Users\\User\\anaconda3\\lib\\site-packages\\sklearn\\metrics\\_classification.py:1221: UndefinedMetricWarning: Precision and F-score are ill-defined and being set to 0.0 in labels with no predicted samples. Use `zero_division` parameter to control this behavior.\n",
      "  _warn_prf(average, modifier, msg_start, len(result))\n"
     ]
    }
   ],
   "source": [
    "print(classification_report(y_test, predictions))"
   ]
  },
  {
   "cell_type": "code",
   "execution_count": 17,
   "metadata": {},
   "outputs": [
    {
     "data": {
      "text/plain": [
       "<AxesSubplot:>"
      ]
     },
     "execution_count": 17,
     "metadata": {},
     "output_type": "execute_result"
    },
    {
     "data": {
      "image/png": "[encoded data removed]",
      "text/plain": [
       "<Figure size 1080x1080 with 2 Axes>"
      ]
     },
     "metadata": {
      "needs_background": "light"
     },
     "output_type": "display_data"
    }
   ],
   "source": [
    "## Based on the results, the logistic model could accurately predict classes [1,5,8,10,12,14]. \n",
    "import seaborn as sns\n",
    "import matplotlib.pyplot as plt\n",
    "plt.figure(figsize=(15,15))\n",
    "cf_matrix = confusion_matrix(y_test,predictions)\n",
    "sns.heatmap(cf_matrix, annot=True)"
   ]
  },
  {
   "cell_type": "code",
   "execution_count": 15,
   "metadata": {},
   "outputs": [],
   "source": [
    "## Heatmap looks bad, real bad "
   ]
  },
  {
   "cell_type": "code",
   "execution_count": 22,
   "metadata": {},
   "outputs": [],
   "source": [
    "from sklearn import svm\n",
    "from sklearn.preprocessing import StandardScaler\n",
    "from sklearn.pipeline import make_pipeline\n",
    "weights = {2:4.0, 11:4.0, 0:4.8, 1:4.8, 14:4.8, 9:5.5, 7:6.0, 13:7.1, 6:8.5, 3:8.5, 4:10 }\n",
    "clf = make_pipeline(StandardScaler(), svm.SVC(kernel='linear', class_weight=weights))"
   ]
  },
  {
   "cell_type": "code",
   "execution_count": 23,
   "metadata": {},
   "outputs": [
    {
     "data": {
      "text/plain": [
       "Pipeline(steps=[('standardscaler', StandardScaler()),\n",
       "                ('svc',\n",
       "                 SVC(class_weight={0: 4.8, 1: 4.8, 2: 4.0, 3: 8.5, 4: 10,\n",
       "                                   6: 8.5, 7: 6.0, 9: 5.5, 11: 4.0, 13: 7.1,\n",
       "                                   14: 4.8},\n",
       "                     kernel='linear'))])"
      ]
     },
     "execution_count": 23,
     "metadata": {},
     "output_type": "execute_result"
    }
   ],
   "source": [
    "clf.fit(X_train,y_train)"
   ]
  },
  {
   "cell_type": "code",
   "execution_count": 25,
   "metadata": {},
   "outputs": [],
   "source": [
    "svm_predict = clf.predict(X_test)"
   ]
  },
  {
   "cell_type": "code",
   "execution_count": 26,
   "metadata": {},
   "outputs": [
    {
     "data": {
      "text/plain": [
       "<AxesSubplot:>"
      ]
     },
     "execution_count": 26,
     "metadata": {},
     "output_type": "execute_result"
    },
    {
     "data": {
      "image/png": "[encoded data removed]",
      "text/plain": [
       "<Figure size 1080x1080 with 2 Axes>"
      ]
     },
     "metadata": {
      "needs_background": "light"
     },
     "output_type": "display_data"
    }
   ],
   "source": [
    "plt.figure(figsize=(15,15))\n",
    "cf_matrix_2 = confusion_matrix(y_test,svm_predict)\n",
    "sns.heatmap(cf_matrix_2, annot=True)"
   ]
  },
  {
   "cell_type": "code",
   "execution_count": 27,
   "metadata": {},
   "outputs": [
    {
     "name": "stdout",
     "output_type": "stream",
     "text": [
      "              precision    recall  f1-score   support\n",
      "\n",
      "           0       0.00      0.00      0.00        13\n",
      "           1       0.00      0.00      0.00        15\n",
      "           2       0.24      0.52      0.33        96\n",
      "           3       0.00      0.00      0.00         7\n",
      "           4       0.00      0.00      0.00         5\n",
      "           5       0.68      0.49      0.57       978\n",
      "           6       0.00      0.00      0.00         4\n",
      "           7       0.00      0.00      0.00         6\n",
      "           8       0.58      0.17      0.26       486\n",
      "           9       0.00      0.00      0.00         7\n",
      "          10       0.62      0.85      0.72       815\n",
      "          11       0.00      0.00      0.00        22\n",
      "          12       0.80      0.91      0.85      2113\n",
      "          13       0.00      0.00      0.00         7\n",
      "          14       0.00      0.00      0.00        18\n",
      "\n",
      "    accuracy                           0.70      4592\n",
      "   macro avg       0.19      0.20      0.18      4592\n",
      "weighted avg       0.69      0.70      0.67      4592\n",
      "\n"
     ]
    },
    {
     "name": "stderr",
     "output_type": "stream",
     "text": [
      "C:\\Users\\User\\anaconda3\\lib\\site-packages\\sklearn\\metrics\\_classification.py:1221: UndefinedMetricWarning: Precision and F-score are ill-defined and being set to 0.0 in labels with no predicted samples. Use `zero_division` parameter to control this behavior.\n",
      "  _warn_prf(average, modifier, msg_start, len(result))\n"
     ]
    }
   ],
   "source": [
    "print(classification_report(y_test, svm_predict))"
   ]
  },
  {
   "cell_type": "code",
   "execution_count": null,
   "metadata": {},
   "outputs": [],
   "source": [
    "## the SVM model produced similar results, which no significant improvents in predicting the minor classes, despite \n",
    "## changes made to the weights assigned to the class. Reattemptimpting to apply smote analysis to image features. "
   ]
  },
  {
   "cell_type": "code",
   "execution_count": 36,
   "metadata": {},
   "outputs": [],
   "source": [
    "from imblearn.over_sampling import SMOTE\n",
    "sm = SMOTE(random_state=42)\n",
    "X_res, y_res = sm.fit_resample(X_train,y_train)"
   ]
  },
  {
   "cell_type": "code",
   "execution_count": 37,
   "metadata": {},
   "outputs": [
    {
     "name": "stdout",
     "output_type": "stream",
     "text": [
      "Counter({12: 6371, 8: 6371, 3: 6371, 10: 6371, 5: 6371, 2: 6371, 0: 6371, 13: 6371, 11: 6371, 1: 6371, 7: 6371, 14: 6371, 9: 6371, 6: 6371, 4: 6371})\n"
     ]
    }
   ],
   "source": [
    "from collections import Counter\n",
    "print(Counter(y_res))"
   ]
  },
  {
   "cell_type": "code",
   "execution_count": null,
   "metadata": {},
   "outputs": [],
   "source": [
    "## now we refit the models. "
   ]
  },
  {
   "cell_type": "code",
   "execution_count": 38,
   "metadata": {},
   "outputs": [],
   "source": [
    "clf = make_pipeline(StandardScaler(), svm.SVC(kernel='linear', class_weight=weights))"
   ]
  },
  {
   "cell_type": "code",
   "execution_count": 39,
   "metadata": {},
   "outputs": [
    {
     "data": {
      "text/plain": [
       "Pipeline(steps=[('standardscaler', StandardScaler()),\n",
       "                ('svc',\n",
       "                 SVC(class_weight={0: 4.8, 1: 4.8, 2: 4.0, 3: 8.5, 4: 10,\n",
       "                                   6: 8.5, 7: 6.0, 9: 5.5, 11: 4.0, 13: 7.1,\n",
       "                                   14: 4.8},\n",
       "                     kernel='linear'))])"
      ]
     },
     "execution_count": 39,
     "metadata": {},
     "output_type": "execute_result"
    }
   ],
   "source": [
    "clf.fit(X_res,y_res)"
   ]
  },
  {
   "cell_type": "code",
   "execution_count": 40,
   "metadata": {},
   "outputs": [],
   "source": [
    "svm_predict_2 = clf.predict(X_test)"
   ]
  },
  {
   "cell_type": "code",
   "execution_count": 41,
   "metadata": {},
   "outputs": [
    {
     "data": {
      "text/plain": [
       "<AxesSubplot:>"
      ]
     },
     "execution_count": 41,
     "metadata": {},
     "output_type": "execute_result"
    },
    {
     "data": {
      "image/png": "[encoded data removed]",
      "text/plain": [
       "<Figure size 1080x1080 with 2 Axes>"
      ]
     },
     "metadata": {
      "needs_background": "light"
     },
     "output_type": "display_data"
    }
   ],
   "source": [
    "plt.figure(figsize=(15,15))\n",
    "cf_matrix_2 = confusion_matrix(y_test, svm_predict_2)\n",
    "sns.heatmap(cf_matrix_2, annot=True)"
   ]
  },
  {
   "cell_type": "code",
   "execution_count": 42,
   "metadata": {},
   "outputs": [
    {
     "name": "stdout",
     "output_type": "stream",
     "text": [
      "              precision    recall  f1-score   support\n",
      "\n",
      "           0       0.02      0.38      0.03        13\n",
      "           1       0.01      0.87      0.03        15\n",
      "           2       0.13      0.50      0.21        96\n",
      "           3       0.00      0.14      0.00         7\n",
      "           4       0.00      0.00      0.00         5\n",
      "           5       0.88      0.01      0.03       978\n",
      "           6       0.02      0.50      0.03         4\n",
      "           7       0.03      1.00      0.06         6\n",
      "           8       0.71      0.02      0.04       486\n",
      "           9       0.01      0.43      0.02         7\n",
      "          10       1.00      0.00      0.00       815\n",
      "          11       0.01      0.36      0.01        22\n",
      "          12       0.81      0.01      0.01      2113\n",
      "          13       0.00      0.14      0.01         7\n",
      "          14       0.07      0.33      0.12        18\n",
      "\n",
      "    accuracy                           0.03      4592\n",
      "   macro avg       0.25      0.31      0.04      4592\n",
      "weighted avg       0.82      0.03      0.02      4592\n",
      "\n"
     ]
    }
   ],
   "source": [
    "## SMOTE analysis yielded more predictions, but the accuarcay was greatly diminshed. \n",
    "print(classification_report(y_test, svm_predict_2))"
   ]
  },
  {
   "cell_type": "code",
   "execution_count": 44,
   "metadata": {},
   "outputs": [],
   "source": [
    "# now attempting to use blob detection to improve feature engineering.\n",
    "# set parameters for blob detection \n",
    "import cv2\n",
    "params = cv2.SimpleBlobDetector_Params()\n",
    "\n",
    "# set area parameters for detcting blob size\n",
    "params.filterByArea = True\n",
    "params.minArea = 100\n",
    "\n",
    "# set circularity paramaters for detecting circular blobs  \n",
    "params.filterByCircularity = True\n",
    "params.minCircularity = 0.8\n",
    "\n",
    "# set convexity parameter\n",
    "params.filterByConvexity = True\n",
    "params.minConvexity = 0.3\n",
    "\n",
    "# set inertia paramaeter \n",
    "params.filterByInertia = True \n",
    "params.minInertiaRatio = 0.02"
   ]
  },
  {
   "cell_type": "code",
   "execution_count": null,
   "metadata": {},
   "outputs": [],
   "source": []
  }
 ],
 "metadata": {
  "kernelspec": {
   "display_name": "Python 3",
   "language": "python",
   "name": "python3"
  },
  "language_info": {
   "codemirror_mode": {
    "name": "ipython",
    "version": 3
   },
   "file_extension": ".py",
   "mimetype": "text/x-python",
   "name": "python",
   "nbconvert_exporter": "python",
   "pygments_lexer": "ipython3",
   "version": "3.8.5"
  }
 },
 "nbformat": 4,
 "nbformat_minor": 4
}
